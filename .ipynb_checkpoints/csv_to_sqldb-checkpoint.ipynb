{
 "cells": [
  {
   "cell_type": "code",
   "execution_count": 1,
   "metadata": {},
   "outputs": [],
   "source": [
    "#Dependencies\n",
    "import pandas as pd\n",
    "import numpy as np\n",
    "\n",
    "import sqlalchemy\n",
    "from sqlalchemy.ext.automap import automap_base\n",
    "from sqlalchemy.orm import Session\n",
    "from sqlalchemy import create_engine, inspect, func\n",
    "import MySQLdb\n",
    "import mysql.connector"
   ]
  },
  {
   "cell_type": "code",
   "execution_count": 2,
   "metadata": {},
   "outputs": [],
   "source": [
    "#Extract\n",
    "housing_development = pd.read_csv('Assets/Data/Affordable_Rental_Housing_Developments.csv')\n",
    "census_data = pd.read_csv('Assets/Data/Census_Data_-_Selected_socioeconomic_indicators_in_Chicago__2008___2012.csv')\n",
    "#vacant_building = pd.read_csv('Assets/Data/Vacant_and_Abandoned_Buildings_-_Violations.csv')"
   ]
  },
  {
   "cell_type": "code",
   "execution_count": 3,
   "metadata": {},
   "outputs": [],
   "source": [
    "#clean/transform\n",
    "housing_final = housing_development.dropna()\n",
    "#census_final = census_data.dropna()\n",
    "#vacant_final = vacant_building.dropna()"
   ]
  },
  {
   "cell_type": "code",
   "execution_count": 4,
   "metadata": {},
   "outputs": [
    {
     "data": {
      "text/html": [
       "<div>\n",
       "<style scoped>\n",
       "    .dataframe tbody tr th:only-of-type {\n",
       "        vertical-align: middle;\n",
       "    }\n",
       "\n",
       "    .dataframe tbody tr th {\n",
       "        vertical-align: top;\n",
       "    }\n",
       "\n",
       "    .dataframe thead th {\n",
       "        text-align: right;\n",
       "    }\n",
       "</style>\n",
       "<table border=\"1\" class=\"dataframe\">\n",
       "  <thead>\n",
       "    <tr style=\"text-align: right;\">\n",
       "      <th></th>\n",
       "      <th>Community Area Name</th>\n",
       "      <th>Community Area Number</th>\n",
       "      <th>Property Type</th>\n",
       "      <th>Property Name</th>\n",
       "      <th>Address</th>\n",
       "      <th>Zip Code</th>\n",
       "      <th>Phone Number</th>\n",
       "      <th>Management Company</th>\n",
       "      <th>Units</th>\n",
       "      <th>X Coordinate</th>\n",
       "      <th>Y Coordinate</th>\n",
       "      <th>Latitude</th>\n",
       "      <th>Longitude</th>\n",
       "      <th>Location</th>\n",
       "    </tr>\n",
       "  </thead>\n",
       "  <tbody>\n",
       "    <tr>\n",
       "      <th>423</th>\n",
       "      <td>Near North Side</td>\n",
       "      <td>8</td>\n",
       "      <td>Multfamily</td>\n",
       "      <td>Parkside of Old Town IIB</td>\n",
       "      <td>1151 N. Cleveland Ave.</td>\n",
       "      <td>60622</td>\n",
       "      <td>312-944-8500</td>\n",
       "      <td>Holsten Real Estate Dev. Corp.</td>\n",
       "      <td>12</td>\n",
       "      <td>1.172709e+06</td>\n",
       "      <td>1.908000e+06</td>\n",
       "      <td>41.902990</td>\n",
       "      <td>-87.641043</td>\n",
       "      <td>(41.902989721, -87.6410428925)</td>\n",
       "    </tr>\n",
       "    <tr>\n",
       "      <th>424</th>\n",
       "      <td>Near South Side</td>\n",
       "      <td>33</td>\n",
       "      <td>Multifamily</td>\n",
       "      <td>Hilliard Homes Phase I</td>\n",
       "      <td>2030 S. State St.</td>\n",
       "      <td>60616</td>\n",
       "      <td>312-225-7610</td>\n",
       "      <td>Holsten Real Estate Dev. Corp.</td>\n",
       "      <td>170</td>\n",
       "      <td>1.176605e+06</td>\n",
       "      <td>1.890374e+06</td>\n",
       "      <td>41.854535</td>\n",
       "      <td>-87.627268</td>\n",
       "      <td>(41.854535033, -87.6272677388)</td>\n",
       "    </tr>\n",
       "    <tr>\n",
       "      <th>425</th>\n",
       "      <td>Washington Park</td>\n",
       "      <td>40</td>\n",
       "      <td>Multifamily</td>\n",
       "      <td>St. Edmund's Commons</td>\n",
       "      <td>110 E. 60th St.</td>\n",
       "      <td>60637</td>\n",
       "      <td>773-420-3328</td>\n",
       "      <td>St. Edmund's Redevelopment Corp.</td>\n",
       "      <td>54</td>\n",
       "      <td>1.178316e+06</td>\n",
       "      <td>1.865303e+06</td>\n",
       "      <td>41.785701</td>\n",
       "      <td>-87.621749</td>\n",
       "      <td>(41.7857009548, -87.6217485015)</td>\n",
       "    </tr>\n",
       "    <tr>\n",
       "      <th>426</th>\n",
       "      <td>Near West Side</td>\n",
       "      <td>28</td>\n",
       "      <td>Senior</td>\n",
       "      <td>Loomis Court</td>\n",
       "      <td>1314 W. 15th St.</td>\n",
       "      <td>60608</td>\n",
       "      <td>312-850-4128</td>\n",
       "      <td>CHA</td>\n",
       "      <td>68</td>\n",
       "      <td>1.167767e+06</td>\n",
       "      <td>1.892903e+06</td>\n",
       "      <td>41.861670</td>\n",
       "      <td>-87.659631</td>\n",
       "      <td>(41.8616698673, -87.659631083)</td>\n",
       "    </tr>\n",
       "    <tr>\n",
       "      <th>427</th>\n",
       "      <td>Grand Boulevard</td>\n",
       "      <td>38</td>\n",
       "      <td>Multifamily</td>\n",
       "      <td>Cornerstone Apts.</td>\n",
       "      <td>636 E. 50th St.</td>\n",
       "      <td>60615</td>\n",
       "      <td>312-577-5555</td>\n",
       "      <td>The Community Builders Inc.</td>\n",
       "      <td>5</td>\n",
       "      <td>1.181482e+06</td>\n",
       "      <td>1.872047e+06</td>\n",
       "      <td>41.804133</td>\n",
       "      <td>-87.609934</td>\n",
       "      <td>(41.804133024, -87.6099341196)</td>\n",
       "    </tr>\n",
       "  </tbody>\n",
       "</table>\n",
       "</div>"
      ],
      "text/plain": [
       "    Community Area Name  Community Area Number Property Type  \\\n",
       "423     Near North Side                      8    Multfamily   \n",
       "424     Near South Side                     33   Multifamily   \n",
       "425     Washington Park                     40   Multifamily   \n",
       "426      Near West Side                     28        Senior   \n",
       "427     Grand Boulevard                     38   Multifamily   \n",
       "\n",
       "                Property Name                 Address  Zip Code  Phone Number  \\\n",
       "423  Parkside of Old Town IIB  1151 N. Cleveland Ave.     60622  312-944-8500   \n",
       "424    Hilliard Homes Phase I       2030 S. State St.     60616  312-225-7610   \n",
       "425      St. Edmund's Commons         110 E. 60th St.     60637  773-420-3328   \n",
       "426              Loomis Court        1314 W. 15th St.     60608  312-850-4128   \n",
       "427         Cornerstone Apts.         636 E. 50th St.     60615  312-577-5555   \n",
       "\n",
       "                   Management Company  Units  X Coordinate  Y Coordinate  \\\n",
       "423    Holsten Real Estate Dev. Corp.     12  1.172709e+06  1.908000e+06   \n",
       "424    Holsten Real Estate Dev. Corp.    170  1.176605e+06  1.890374e+06   \n",
       "425  St. Edmund's Redevelopment Corp.     54  1.178316e+06  1.865303e+06   \n",
       "426                               CHA     68  1.167767e+06  1.892903e+06   \n",
       "427       The Community Builders Inc.      5  1.181482e+06  1.872047e+06   \n",
       "\n",
       "      Latitude  Longitude                         Location  \n",
       "423  41.902990 -87.641043   (41.902989721, -87.6410428925)  \n",
       "424  41.854535 -87.627268   (41.854535033, -87.6272677388)  \n",
       "425  41.785701 -87.621749  (41.7857009548, -87.6217485015)  \n",
       "426  41.861670 -87.659631   (41.8616698673, -87.659631083)  \n",
       "427  41.804133 -87.609934   (41.804133024, -87.6099341196)  "
      ]
     },
     "execution_count": 4,
     "metadata": {},
     "output_type": "execute_result"
    }
   ],
   "source": [
    "#vacant_building.tail()\n",
    "# census_data.tail()\n",
    "housing_development.tail()"
   ]
  },
  {
   "cell_type": "code",
   "execution_count": 5,
   "metadata": {},
   "outputs": [],
   "source": [
    "# Adding Community area Number = 0 for total Chicago data\n",
    "census_data.at[77, 'Community Area Number']=0\n",
    "#census_data"
   ]
  },
  {
   "cell_type": "code",
   "execution_count": 6,
   "metadata": {},
   "outputs": [],
   "source": [
    "census_final = census_data.dropna()"
   ]
  },
  {
   "cell_type": "code",
   "execution_count": null,
   "metadata": {},
   "outputs": [],
   "source": []
  },
  {
   "cell_type": "code",
   "execution_count": null,
   "metadata": {},
   "outputs": [],
   "source": []
  },
  {
   "cell_type": "code",
   "execution_count": 7,
   "metadata": {},
   "outputs": [],
   "source": [
    "#Merging Census Data and housing development by Communit Area Number\n",
    "Combined_data = pd.merge(housing_final, census_final, how='outer', on=['Community Area Number'])\n",
    "# Combined_data"
   ]
  },
  {
   "cell_type": "code",
   "execution_count": 8,
   "metadata": {},
   "outputs": [],
   "source": [
    "# cleaning up ..\n",
    "final_data = Combined_data.dropna()\n",
    "final_data = final_data.drop(['COMMUNITY AREA NAME'], axis=1)"
   ]
  },
  {
   "cell_type": "code",
   "execution_count": 9,
   "metadata": {},
   "outputs": [],
   "source": [
    "## LOAD TO DB"
   ]
  },
  {
   "cell_type": "code",
   "execution_count": 10,
   "metadata": {},
   "outputs": [],
   "source": [
    "# connect to the database\n",
    "database_path = \"data.sqlite\" #whatever you type in here will be the name of the database\n",
    "engine = create_engine(f\"sqlite:///{database_path}\")\n",
    "conn = engine.connect()"
   ]
  },
  {
   "cell_type": "code",
   "execution_count": 11,
   "metadata": {},
   "outputs": [
    {
     "data": {
      "text/plain": [
       "[]"
      ]
     },
     "execution_count": 11,
     "metadata": {},
     "output_type": "execute_result"
    }
   ],
   "source": [
    "#Double check it worked\n",
    "inspector = inspect(engine)\n",
    "inspector.get_table_names()"
   ]
  },
  {
   "cell_type": "code",
   "execution_count": 12,
   "metadata": {},
   "outputs": [],
   "source": [
    "#insert tables into the db\n",
    "final_data.to_sql(name='final_data', con=engine, if_exists='replace', index=False) #merged dataset\n",
    "census_data.to_sql(name='census_final', con=engine, if_exists='replace', index=False) # census dataset\n",
    "housing_final.to_sql(name='housing_final', con=engine, if_exists='replace', index=False) #affordable housing dataset\n"
   ]
  },
  {
   "cell_type": "code",
   "execution_count": 13,
   "metadata": {},
   "outputs": [
    {
     "data": {
      "text/plain": [
       "['census_final', 'final_data', 'housing_final']"
      ]
     },
     "execution_count": 13,
     "metadata": {},
     "output_type": "execute_result"
    }
   ],
   "source": [
    "#Double check it worked\n",
    "inspector = inspect(engine)\n",
    "inspector.get_table_names()"
   ]
  },
  {
   "cell_type": "code",
   "execution_count": 14,
   "metadata": {},
   "outputs": [],
   "source": [
    "database_path = \"data.sqlite\"\n",
    "engine = create_engine(f\"sqlite:///{database_path}\")\n",
    "conn = engine.connect()\n",
    "\n",
    "Base = automap_base()\n",
    "Base.prepare(engine, reflect=True)\n"
   ]
  },
  {
   "cell_type": "code",
   "execution_count": 15,
   "metadata": {},
   "outputs": [
    {
     "name": "stdout",
     "output_type": "stream",
     "text": [
      "[{'name': 'Community Area Name', 'type': TEXT(), 'nullable': True, 'default': None, 'autoincrement': 'auto', 'primary_key': 0}, {'name': 'Community Area Number', 'type': BIGINT(), 'nullable': True, 'default': None, 'autoincrement': 'auto', 'primary_key': 0}, {'name': 'Property Type', 'type': TEXT(), 'nullable': True, 'default': None, 'autoincrement': 'auto', 'primary_key': 0}, {'name': 'Property Name', 'type': TEXT(), 'nullable': True, 'default': None, 'autoincrement': 'auto', 'primary_key': 0}, {'name': 'Address', 'type': TEXT(), 'nullable': True, 'default': None, 'autoincrement': 'auto', 'primary_key': 0}, {'name': 'Zip Code', 'type': BIGINT(), 'nullable': True, 'default': None, 'autoincrement': 'auto', 'primary_key': 0}, {'name': 'Phone Number', 'type': TEXT(), 'nullable': True, 'default': None, 'autoincrement': 'auto', 'primary_key': 0}, {'name': 'Management Company', 'type': TEXT(), 'nullable': True, 'default': None, 'autoincrement': 'auto', 'primary_key': 0}, {'name': 'Units', 'type': BIGINT(), 'nullable': True, 'default': None, 'autoincrement': 'auto', 'primary_key': 0}, {'name': 'X Coordinate', 'type': FLOAT(), 'nullable': True, 'default': None, 'autoincrement': 'auto', 'primary_key': 0}, {'name': 'Y Coordinate', 'type': FLOAT(), 'nullable': True, 'default': None, 'autoincrement': 'auto', 'primary_key': 0}, {'name': 'Latitude', 'type': FLOAT(), 'nullable': True, 'default': None, 'autoincrement': 'auto', 'primary_key': 0}, {'name': 'Longitude', 'type': FLOAT(), 'nullable': True, 'default': None, 'autoincrement': 'auto', 'primary_key': 0}, {'name': 'Location', 'type': TEXT(), 'nullable': True, 'default': None, 'autoincrement': 'auto', 'primary_key': 0}]\n"
     ]
    }
   ],
   "source": [
    "print(inspector.get_columns('housing_final'))"
   ]
  },
  {
   "cell_type": "code",
   "execution_count": null,
   "metadata": {},
   "outputs": [],
   "source": []
  }
 ],
 "metadata": {
  "kernelspec": {
   "display_name": "Python 3",
   "language": "python",
   "name": "python3"
  },
  "language_info": {
   "codemirror_mode": {
    "name": "ipython",
    "version": 3
   },
   "file_extension": ".py",
   "mimetype": "text/x-python",
   "name": "python",
   "nbconvert_exporter": "python",
   "pygments_lexer": "ipython3",
   "version": "3.7.4"
  }
 },
 "nbformat": 4,
 "nbformat_minor": 2
}
