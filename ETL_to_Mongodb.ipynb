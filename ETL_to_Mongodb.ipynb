{
 "cells": [
  {
   "cell_type": "markdown",
   "metadata": {},
   "source": []
  },
  {
   "cell_type": "code",
   "execution_count": 60,
   "metadata": {},
   "outputs": [],
   "source": [
    "#Dependencies\n",
    "import pandas as pd\n",
    "import numpy as np\n",
    "import pymongo\n",
    "\n",
    "import sqlalchemy\n",
    "from sqlalchemy.ext.automap import automap_base\n",
    "from sqlalchemy.orm import Session\n",
    "from sqlalchemy import create_engine, inspect, func\n"
   ]
  },
  {
   "cell_type": "code",
   "execution_count": 61,
   "metadata": {},
   "outputs": [],
   "source": [
    "#Extract\n",
    "housing_development = pd.read_csv('Assets/Data/Affordable_Rental_Housing_Developments.csv')\n",
    "census_data = pd.read_csv('Assets/Data/Census_Data_-_Selected_socioeconomic_indicators_in_Chicago__2008___2012.csv')\n",
    "vacant_building = pd.read_csv('Assets/Data/Vacant_and_Abandoned_Buildings_-_Violations.csv')"
   ]
  },
  {
   "cell_type": "code",
   "execution_count": 62,
   "metadata": {},
   "outputs": [],
   "source": [
    "#clean/transform\n",
    "housing_final = housing_development.dropna()\n",
    "census_final = census_data.dropna()\n",
    "vacant_final = vacant_building.dropna()"
   ]
  },
  {
   "cell_type": "code",
   "execution_count": 63,
   "metadata": {},
   "outputs": [
    {
     "data": {
      "text/html": [
       "<div>\n",
       "<style scoped>\n",
       "    .dataframe tbody tr th:only-of-type {\n",
       "        vertical-align: middle;\n",
       "    }\n",
       "\n",
       "    .dataframe tbody tr th {\n",
       "        vertical-align: top;\n",
       "    }\n",
       "\n",
       "    .dataframe thead th {\n",
       "        text-align: right;\n",
       "    }\n",
       "</style>\n",
       "<table border=\"1\" class=\"dataframe\">\n",
       "  <thead>\n",
       "    <tr style=\"text-align: right;\">\n",
       "      <th></th>\n",
       "      <th>Community Area Name</th>\n",
       "      <th>Community Area Number</th>\n",
       "      <th>Property Type</th>\n",
       "      <th>Property Name</th>\n",
       "      <th>Address</th>\n",
       "      <th>Zip Code</th>\n",
       "      <th>Phone Number</th>\n",
       "      <th>Management Company</th>\n",
       "      <th>Units</th>\n",
       "      <th>X Coordinate</th>\n",
       "      <th>Y Coordinate</th>\n",
       "      <th>Latitude</th>\n",
       "      <th>Longitude</th>\n",
       "      <th>Location</th>\n",
       "    </tr>\n",
       "  </thead>\n",
       "  <tbody>\n",
       "    <tr>\n",
       "      <th>0</th>\n",
       "      <td>Portage Park</td>\n",
       "      <td>15</td>\n",
       "      <td>ARO</td>\n",
       "      <td>4812-15 W. Montrose Apts.</td>\n",
       "      <td>4812-15 W. Montrose Ave.</td>\n",
       "      <td>60641</td>\n",
       "      <td>630-694-6968</td>\n",
       "      <td>@properties</td>\n",
       "      <td>2</td>\n",
       "      <td>NaN</td>\n",
       "      <td>NaN</td>\n",
       "      <td>NaN</td>\n",
       "      <td>NaN</td>\n",
       "      <td>NaN</td>\n",
       "    </tr>\n",
       "    <tr>\n",
       "      <th>1</th>\n",
       "      <td>West Englewood</td>\n",
       "      <td>67</td>\n",
       "      <td>Multifamily</td>\n",
       "      <td>New West Englewood Homes</td>\n",
       "      <td>2109 W. 63rd St.</td>\n",
       "      <td>60636</td>\n",
       "      <td>773-434-4929</td>\n",
       "      <td>Interfaith Housing Corp.</td>\n",
       "      <td>12</td>\n",
       "      <td>NaN</td>\n",
       "      <td>NaN</td>\n",
       "      <td>NaN</td>\n",
       "      <td>NaN</td>\n",
       "      <td>NaN</td>\n",
       "    </tr>\n",
       "    <tr>\n",
       "      <th>2</th>\n",
       "      <td>Englewood</td>\n",
       "      <td>68</td>\n",
       "      <td>Multifamily</td>\n",
       "      <td>Antioch Homes II</td>\n",
       "      <td>301 W. Marquette Road</td>\n",
       "      <td>60621</td>\n",
       "      <td>773-994-4546</td>\n",
       "      <td>Universal Management Service, Inc.</td>\n",
       "      <td>69</td>\n",
       "      <td>1.175445e+06</td>\n",
       "      <td>1.860492e+06</td>\n",
       "      <td>41.772564</td>\n",
       "      <td>-87.632419</td>\n",
       "      <td>(41.7725637689, -87.6324193182)</td>\n",
       "    </tr>\n",
       "    <tr>\n",
       "      <th>3</th>\n",
       "      <td>Washington Park</td>\n",
       "      <td>40</td>\n",
       "      <td>Senior HUD 202</td>\n",
       "      <td>St. Edmund's Corners</td>\n",
       "      <td>5556 S. Michigan Ave.</td>\n",
       "      <td>60637</td>\n",
       "      <td>773-667-7583</td>\n",
       "      <td>St. Edmund's Redevelopment Corp.</td>\n",
       "      <td>53</td>\n",
       "      <td>1.178070e+06</td>\n",
       "      <td>1.867952e+06</td>\n",
       "      <td>41.792975</td>\n",
       "      <td>-87.622569</td>\n",
       "      <td>(41.7929745219, -87.6225685185)</td>\n",
       "    </tr>\n",
       "    <tr>\n",
       "      <th>4</th>\n",
       "      <td>Humboldt Park</td>\n",
       "      <td>23</td>\n",
       "      <td>Multifamily</td>\n",
       "      <td>Nelson Mandela Apts.</td>\n",
       "      <td>526 N. Troy St.</td>\n",
       "      <td>60624</td>\n",
       "      <td>773-227-6332</td>\n",
       "      <td>Bickerdike Apts.</td>\n",
       "      <td>6</td>\n",
       "      <td>1.155238e+06</td>\n",
       "      <td>1.903559e+06</td>\n",
       "      <td>41.891173</td>\n",
       "      <td>-87.705338</td>\n",
       "      <td>(41.8911727354, -87.7053383382)</td>\n",
       "    </tr>\n",
       "  </tbody>\n",
       "</table>\n",
       "</div>"
      ],
      "text/plain": [
       "  Community Area Name  Community Area Number   Property Type  \\\n",
       "0        Portage Park                     15             ARO   \n",
       "1      West Englewood                     67     Multifamily   \n",
       "2           Englewood                     68     Multifamily   \n",
       "3     Washington Park                     40  Senior HUD 202   \n",
       "4       Humboldt Park                     23     Multifamily   \n",
       "\n",
       "               Property Name                   Address  Zip Code  \\\n",
       "0  4812-15 W. Montrose Apts.  4812-15 W. Montrose Ave.     60641   \n",
       "1   New West Englewood Homes          2109 W. 63rd St.     60636   \n",
       "2           Antioch Homes II     301 W. Marquette Road     60621   \n",
       "3       St. Edmund's Corners     5556 S. Michigan Ave.     60637   \n",
       "4       Nelson Mandela Apts.           526 N. Troy St.     60624   \n",
       "\n",
       "   Phone Number                  Management Company  Units  X Coordinate  \\\n",
       "0  630-694-6968                         @properties      2           NaN   \n",
       "1  773-434-4929            Interfaith Housing Corp.     12           NaN   \n",
       "2  773-994-4546  Universal Management Service, Inc.     69  1.175445e+06   \n",
       "3  773-667-7583    St. Edmund's Redevelopment Corp.     53  1.178070e+06   \n",
       "4  773-227-6332                    Bickerdike Apts.      6  1.155238e+06   \n",
       "\n",
       "   Y Coordinate   Latitude  Longitude                         Location  \n",
       "0           NaN        NaN        NaN                              NaN  \n",
       "1           NaN        NaN        NaN                              NaN  \n",
       "2  1.860492e+06  41.772564 -87.632419  (41.7725637689, -87.6324193182)  \n",
       "3  1.867952e+06  41.792975 -87.622569  (41.7929745219, -87.6225685185)  \n",
       "4  1.903559e+06  41.891173 -87.705338  (41.8911727354, -87.7053383382)  "
      ]
     },
     "execution_count": 63,
     "metadata": {},
     "output_type": "execute_result"
    }
   ],
   "source": [
    "# vacant_building\n",
    "#census_data.head()\n",
    "housing_development.head()"
   ]
  },
  {
   "cell_type": "code",
   "execution_count": 64,
   "metadata": {},
   "outputs": [],
   "source": [
    "#Merging Census Data and housing development by Communit Area Number\n",
    "Combined_data = pd.merge(housing_final, census_final, how='outer', on=['Community Area Number'])"
   ]
  },
  {
   "cell_type": "code",
   "execution_count": 65,
   "metadata": {},
   "outputs": [
    {
     "data": {
      "text/plain": [
       "Index(['Community Area Name', 'Community Area Number', 'Property Type',\n",
       "       'Property Name', 'Address', 'Zip Code', 'Phone Number',\n",
       "       'Management Company', 'Units', 'X Coordinate', 'Y Coordinate',\n",
       "       'Latitude', 'Longitude', 'Location', 'COMMUNITY AREA NAME',\n",
       "       'PERCENT OF HOUSING CROWDED', 'PERCENT HOUSEHOLDS BELOW POVERTY',\n",
       "       'PERCENT AGED 16+ UNEMPLOYED',\n",
       "       'PERCENT AGED 25+ WITHOUT HIGH SCHOOL DIPLOMA',\n",
       "       'PERCENT AGED UNDER 18 OR OVER 64', 'PER CAPITA INCOME ',\n",
       "       'HARDSHIP INDEX'],\n",
       "      dtype='object')"
      ]
     },
     "execution_count": 65,
     "metadata": {},
     "output_type": "execute_result"
    }
   ],
   "source": [
    "Combined_data = Combined_data.dropna()\n",
    "Combined_data.columns"
   ]
  },
  {
   "cell_type": "markdown",
   "metadata": {},
   "source": [
    "### Load to database"
   ]
  },
  {
   "cell_type": "code",
   "execution_count": 66,
   "metadata": {},
   "outputs": [],
   "source": [
    "# Initialize PyMongo to work with MongoDBs\n",
    "conn = 'mongodb://localhost:27017'\n",
    "client = pymongo.MongoClient(conn)"
   ]
  },
  {
   "cell_type": "code",
   "execution_count": 67,
   "metadata": {},
   "outputs": [],
   "source": [
    "db = client.housing_db"
   ]
  },
  {
   "cell_type": "code",
   "execution_count": 68,
   "metadata": {},
   "outputs": [
    {
     "data": {
      "text/plain": [
       "<pymongo.results.InsertManyResult at 0x175fe006e48>"
      ]
     },
     "execution_count": 68,
     "metadata": {},
     "output_type": "execute_result"
    }
   ],
   "source": [
    "data_all = db.all_data\n",
    "data_all.insert_many(Combined_data.to_dict('records'))"
   ]
  },
  {
   "cell_type": "code",
   "execution_count": 69,
   "metadata": {},
   "outputs": [],
   "source": [
    "##Testing"
   ]
  },
  {
   "cell_type": "code",
   "execution_count": 70,
   "metadata": {},
   "outputs": [],
   "source": [
    "conn = \"mongodb://localhost:27017\"\n",
    "client = pymongo.MongoClient(conn)"
   ]
  },
  {
   "cell_type": "code",
   "execution_count": 71,
   "metadata": {},
   "outputs": [],
   "source": [
    "db = client.store_inventory\n",
    "collection = db.housing_db.all_data"
   ]
  },
  {
   "cell_type": "code",
   "execution_count": 72,
   "metadata": {},
   "outputs": [
    {
     "data": {
      "text/plain": [
       "Collection(Database(MongoClient(host=['localhost:27017'], document_class=dict, tz_aware=False, connect=True), 'store_inventory'), 'housing_db.all_data')"
      ]
     },
     "execution_count": 72,
     "metadata": {},
     "output_type": "execute_result"
    }
   ],
   "source": [
    "collection"
   ]
  },
  {
   "cell_type": "code",
   "execution_count": null,
   "metadata": {},
   "outputs": [],
   "source": []
  }
 ],
 "metadata": {
  "kernelspec": {
   "display_name": "Python 3",
   "language": "python",
   "name": "python3"
  },
  "language_info": {
   "codemirror_mode": {
    "name": "ipython",
    "version": 3
   },
   "file_extension": ".py",
   "mimetype": "text/x-python",
   "name": "python",
   "nbconvert_exporter": "python",
   "pygments_lexer": "ipython3",
   "version": "3.7.4"
  }
 },
 "nbformat": 4,
 "nbformat_minor": 2
}
