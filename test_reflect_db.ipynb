{
 "cells": [
  {
   "cell_type": "code",
   "execution_count": 12,
   "metadata": {},
   "outputs": [],
   "source": [
    "# Dependencies\n",
    "import sqlalchemy\n",
    "from sqlalchemy.ext.automap import automap_base\n",
    "from sqlalchemy.orm import Session\n",
    "from sqlalchemy import create_engine, inspect, func"
   ]
  },
  {
   "cell_type": "code",
   "execution_count": 21,
   "metadata": {},
   "outputs": [],
   "source": [
    "database_path = \"data.sqlite\"\n",
    "engine = create_engine(f\"sqlite:///{database_path}\")\n",
    "#conn = engine.connect()\n",
    "\n",
    "#Base = automap_base()\n",
    "# Use the Base class to reflect the database tables\n",
    "Base.prepare(engine, reflect=True)"
   ]
  },
  {
   "cell_type": "code",
   "execution_count": null,
   "metadata": {},
   "outputs": [],
   "source": []
  },
  {
   "cell_type": "code",
   "execution_count": 22,
   "metadata": {},
   "outputs": [
    {
     "data": {
      "text/plain": [
       "['census_final', 'final_data', 'housing_final']"
      ]
     },
     "execution_count": 22,
     "metadata": {},
     "output_type": "execute_result"
    }
   ],
   "source": [
    "inspector = inspect(engine)\n",
    "inspector.get_table_names()"
   ]
  },
  {
   "cell_type": "code",
   "execution_count": 23,
   "metadata": {},
   "outputs": [],
   "source": [
    "from sqlalchemy import MetaData\n",
    "from sqlalchemy import Table"
   ]
  },
  {
   "cell_type": "code",
   "execution_count": 31,
   "metadata": {},
   "outputs": [
    {
     "name": "stdout",
     "output_type": "stream",
     "text": [
      "immutabledict({})\n",
      "immutabledict({'census_final': Table('census_final', MetaData(bind=None), Column('Community Area Number', FLOAT(), table=<census_final>), Column('COMMUNITY AREA NAME', TEXT(), table=<census_final>), Column('PERCENT OF HOUSING CROWDED', FLOAT(), table=<census_final>), Column('PERCENT HOUSEHOLDS BELOW POVERTY', FLOAT(), table=<census_final>), Column('PERCENT AGED 16+ UNEMPLOYED', FLOAT(), table=<census_final>), Column('PERCENT AGED 25+ WITHOUT HIGH SCHOOL DIPLOMA', FLOAT(), table=<census_final>), Column('PERCENT AGED UNDER 18 OR OVER 64', FLOAT(), table=<census_final>), Column('PER CAPITA INCOME ', BIGINT(), table=<census_final>), Column('HARDSHIP INDEX', FLOAT(), table=<census_final>), schema=None), 'final_data': Table('final_data', MetaData(bind=None), Column('Community Area Name', TEXT(), table=<final_data>), Column('Community Area Number', BIGINT(), table=<final_data>), Column('Property Type', TEXT(), table=<final_data>), Column('Property Name', TEXT(), table=<final_data>), Column('Address', TEXT(), table=<final_data>), Column('Zip Code', FLOAT(), table=<final_data>), Column('Phone Number', TEXT(), table=<final_data>), Column('Management Company', TEXT(), table=<final_data>), Column('Units', FLOAT(), table=<final_data>), Column('X Coordinate', FLOAT(), table=<final_data>), Column('Y Coordinate', FLOAT(), table=<final_data>), Column('Latitude', FLOAT(), table=<final_data>), Column('Longitude', FLOAT(), table=<final_data>), Column('Location', TEXT(), table=<final_data>), Column('PERCENT OF HOUSING CROWDED', FLOAT(), table=<final_data>), Column('PERCENT HOUSEHOLDS BELOW POVERTY', FLOAT(), table=<final_data>), Column('PERCENT AGED 16+ UNEMPLOYED', FLOAT(), table=<final_data>), Column('PERCENT AGED 25+ WITHOUT HIGH SCHOOL DIPLOMA', FLOAT(), table=<final_data>), Column('PERCENT AGED UNDER 18 OR OVER 64', FLOAT(), table=<final_data>), Column('PER CAPITA INCOME ', BIGINT(), table=<final_data>), Column('HARDSHIP INDEX', FLOAT(), table=<final_data>), schema=None), 'housing_final': Table('housing_final', MetaData(bind=None), Column('Community Area Name', TEXT(), table=<housing_final>), Column('Community Area Number', BIGINT(), table=<housing_final>), Column('Property Type', TEXT(), table=<housing_final>), Column('Property Name', TEXT(), table=<housing_final>), Column('Address', TEXT(), table=<housing_final>), Column('Zip Code', BIGINT(), table=<housing_final>), Column('Phone Number', TEXT(), table=<housing_final>), Column('Management Company', TEXT(), table=<housing_final>), Column('Units', BIGINT(), table=<housing_final>), Column('X Coordinate', FLOAT(), table=<housing_final>), Column('Y Coordinate', FLOAT(), table=<housing_final>), Column('Latitude', FLOAT(), table=<housing_final>), Column('Longitude', FLOAT(), table=<housing_final>), Column('Location', TEXT(), table=<housing_final>), schema=None)})\n"
     ]
    }
   ],
   "source": [
    "# Create a MetaData instance\n",
    "metadata = MetaData()\n",
    "print(metadata.tables)\n",
    "\n",
    "# reflect db schema to MetaData\n",
    "metadata.reflect(bind=engine)\n",
    "print(metadata.tables)"
   ]
  },
  {
   "cell_type": "code",
   "execution_count": 35,
   "metadata": {},
   "outputs": [],
   "source": [
    "ex_table = metadata.tables['final_data']"
   ]
  },
  {
   "cell_type": "code",
   "execution_count": null,
   "metadata": {},
   "outputs": [],
   "source": []
  },
  {
   "cell_type": "code",
   "execution_count": null,
   "metadata": {},
   "outputs": [],
   "source": []
  }
 ],
 "metadata": {
  "kernelspec": {
   "display_name": "Python 3",
   "language": "python",
   "name": "python3"
  },
  "language_info": {
   "codemirror_mode": {
    "name": "ipython",
    "version": 3
   },
   "file_extension": ".py",
   "mimetype": "text/x-python",
   "name": "python",
   "nbconvert_exporter": "python",
   "pygments_lexer": "ipython3",
   "version": "3.7.4"
  }
 },
 "nbformat": 4,
 "nbformat_minor": 2
}
